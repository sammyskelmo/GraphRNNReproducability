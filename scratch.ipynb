{
 "cells": [
  {
   "cell_type": "code",
   "execution_count": 102,
   "metadata": {},
   "outputs": [],
   "source": [
    "import load_datasets as ld\n",
    "import networkx as nx\n",
    "import matplotlib.pyplot as plt\n",
    "import random\n",
    "import numpy as np"
   ]
  },
  {
   "cell_type": "code",
   "execution_count": 148,
   "metadata": {},
   "outputs": [
    {
     "name": "stdout",
     "output_type": "stream",
     "text": [
      "Loaded 1113 graphs for dataset PROTEINS_full\n"
     ]
    }
   ],
   "source": [
    "data = ld.load_graph_dataset(name='PROTEINS_full', min_num_nodes=20, max_num_nodes=1000, node_attributes=False, graph_labels=True)"
   ]
  },
  {
   "cell_type": "code",
   "execution_count": 107,
   "metadata": {},
   "outputs": [],
   "source": [
    "random.shuffle(data)\n",
    "length = len(data)\n",
    "\n",
    "# 60-20-20 split for train, valid, test data\n",
    "train = data[:int(0.6*length)]\n",
    "valid = data[:int(0.6*length):int(0.8*length)]\n",
    "test = data[int(0.8*length):]"
   ]
  },
  {
   "cell_type": "code",
   "execution_count": 126,
   "metadata": {},
   "outputs": [
    {
     "name": "stdout",
     "output_type": "stream",
     "text": [
      "[[1 1 1]\n",
      " [1 1 1]\n",
      " [1 1 0]]\n",
      "[[1 1 1]\n",
      " [1 0 1]\n",
      " [1 1 1]]\n"
     ]
    }
   ],
   "source": [
    "mat = np.random.rand(3, 3)\n",
    "mat = (mat + mat.T)\n",
    "mat = np.where(mat > 0.5, 1, 0)\n",
    "x_idx = np.random.permutation(mat.shape[0])\n",
    "print(mat)\n",
    "print(mat[np.ix_(x_idx, x_idx)])"
   ]
  },
  {
   "cell_type": "code",
   "execution_count": 110,
   "metadata": {},
   "outputs": [
    {
     "data": {
      "image/png": "[encoded data removed]",
      "text/plain": [
       "<Figure size 432x288 with 1 Axes>"
      ]
     },
     "metadata": {},
     "output_type": "display_data"
    }
   ],
   "source": [
    "# pick a random element of data, then draw it\n",
    "G = test[0]\n",
    "nx.draw(G, with_labels=False)"
   ]
  },
  {
   "cell_type": "code",
   "execution_count": 182,
   "metadata": {},
   "outputs": [],
   "source": [
    "def encode_adj_flexible(adj):\n",
    "    '''\n",
    "    return a flexible length of output\n",
    "    note that here there is no loss when encoding/decoding an adj matrix\n",
    "    :param adj: adj matrix\n",
    "    :return:\n",
    "    '''\n",
    "    # pick up lower tri\n",
    "    adj = np.tril(adj, k=-1)\n",
    "    n = adj.shape[0]\n",
    "    adj = adj[1:n, 0:n-1]\n",
    "    print(adj)\n",
    "    adj_output = []\n",
    "    input_start = 0\n",
    "    for i in range(adj.shape[0]):\n",
    "        input_end = i + 1\n",
    "        adj_slice = adj[i, input_start:input_end]\n",
    "        adj_output.append(adj_slice)\n",
    "        print(adj_slice)\n",
    "        non_zero = np.nonzero(adj_slice)[0]\n",
    "        print(\"row index \", i, \"slice: [\", input_start, input_end,\"], nonzero: \", non_zero)\n",
    "        input_start = input_end-len(adj_slice)+np.amin(non_zero)\n",
    "\n",
    "    return adj_output"
   ]
  },
  {
   "cell_type": "code",
   "execution_count": 85,
   "metadata": {},
   "outputs": [],
   "source": [
    "def encode(adj):\n",
    "    def split(x, idx: list):\n",
    "        x_split = []\n",
    "        start = 0\n",
    "        for i in idx:\n",
    "            x_split.append(x[start:i])\n",
    "            start = i\n",
    "        return x_split\n",
    "        \n",
    "    # keep the lower triangle of the matrix, remove elements which are not in the lower triangle\n",
    "    adj = np.tril(adj, k=-1)\n",
    "    split_indices = np.cumsum(np.arange(start=1, stop=adj.shape[0], step=1))\n",
    "    adj = adj[np.tril(np.ones(adj.shape, dtype=bool), k=-1)]\n",
    "    return split(adj, split_indices)\n",
    "    "
   ]
  },
  {
   "cell_type": "code",
   "execution_count": 187,
   "metadata": {},
   "outputs": [
    {
     "data": {
      "text/plain": [
       "array([[0., 0., 0., 0., 0.],\n",
       "       [0., 0., 0., 0., 0.],\n",
       "       [0., 0., 0., 0., 0.],\n",
       "       [1., 0., 0., 0., 0.],\n",
       "       [1., 1., 0., 0., 0.]])"
      ]
     },
     "execution_count": 187,
     "metadata": {},
     "output_type": "execute_result"
    }
   ],
   "source": [
    "np.tril(np.ones((5,5)), k=-3)"
   ]
  },
  {
   "cell_type": "code",
   "execution_count": 190,
   "metadata": {},
   "outputs": [
    {
     "data": {
      "text/plain": [
       "array([[0., 1., 1., 1., 1.],\n",
       "       [1., 0., 1., 1., 1.],\n",
       "       [1., 0., 0., 1., 1.],\n",
       "       [0., 1., 1., 0., 1.],\n",
       "       [0., 0., 1., 1., 0.]])"
      ]
     },
     "execution_count": 190,
     "metadata": {},
     "output_type": "execute_result"
    }
   ],
   "source": [
    "mat = np.ones((5,5)) - np.identity(5) - np.tril(np.ones((5,5)), k=-3)\n",
    "mat[2,1] = 0\n",
    "mat"
   ]
  },
  {
   "cell_type": "code",
   "execution_count": 191,
   "metadata": {},
   "outputs": [
    {
     "name": "stdout",
     "output_type": "stream",
     "text": [
      "[[1. 0. 0. 0.]\n",
      " [1. 0. 0. 0.]\n",
      " [0. 1. 1. 0.]\n",
      " [0. 0. 1. 1.]]\n",
      "[1.]\n",
      "row index  0 slice: [ 0 1 ], nonzero:  [0]\n",
      "[1. 0.]\n",
      "row index  1 slice: [ 0 2 ], nonzero:  [0]\n",
      "[0. 1. 1.]\n",
      "row index  2 slice: [ 0 3 ], nonzero:  [1 2]\n",
      "[0. 1. 1.]\n",
      "row index  3 slice: [ 1 4 ], nonzero:  [1 2]\n",
      "[array([1.]), array([1., 0.]), array([0., 1., 1.]), array([0., 1., 1.])]\n"
     ]
    }
   ],
   "source": [
    "print(encode_adj_flexible(mat))\n",
    "# print(encode(mat))"
   ]
  },
  {
   "cell_type": "code",
   "execution_count": 186,
   "metadata": {},
   "outputs": [
    {
     "name": "stdout",
     "output_type": "stream",
     "text": [
      "[array([1.]), array([1., 1.]), array([1., 1., 1.]), array([1., 1., 1., 1.])]\n"
     ]
    }
   ],
   "source": [
    "print(encode(mat))"
   ]
  },
  {
   "cell_type": "code",
   "execution_count": 99,
   "metadata": {},
   "outputs": [],
   "source": [
    "G = nx.ladder_graph(5)\n",
    "adj = np.array(nx.to_numpy_array(G))"
   ]
  },
  {
   "cell_type": "code",
   "execution_count": 100,
   "metadata": {},
   "outputs": [
    {
     "ename": "ValueError",
     "evalue": "zero-size array to reduction operation minimum which has no identity",
     "output_type": "error",
     "traceback": [
      "\u001b[0;31m---------------------------------------------------------------------------\u001b[0m",
      "\u001b[0;31mValueError\u001b[0m                                Traceback (most recent call last)",
      "\u001b[0;32m<ipython-input-100-719cb6d5e645>\u001b[0m in \u001b[0;36m<module>\u001b[0;34m\u001b[0m\n\u001b[0;32m----> 1\u001b[0;31m \u001b[0mprint\u001b[0m\u001b[0;34m(\u001b[0m\u001b[0mencode_adj_flexible\u001b[0m\u001b[0;34m(\u001b[0m\u001b[0madj\u001b[0m\u001b[0;34m)\u001b[0m\u001b[0;34m)\u001b[0m\u001b[0;34m\u001b[0m\u001b[0;34m\u001b[0m\u001b[0m\n\u001b[0m\u001b[1;32m      2\u001b[0m \u001b[0mprint\u001b[0m\u001b[0;34m(\u001b[0m\u001b[0mencode\u001b[0m\u001b[0;34m(\u001b[0m\u001b[0madj\u001b[0m\u001b[0;34m)\u001b[0m\u001b[0;34m)\u001b[0m\u001b[0;34m\u001b[0m\u001b[0;34m\u001b[0m\u001b[0m\n",
      "\u001b[0;32m<ipython-input-25-4d56ac41d763>\u001b[0m in \u001b[0;36mencode_adj_flexible\u001b[0;34m(adj)\u001b[0m\n\u001b[1;32m     18\u001b[0m         \u001b[0madj_output\u001b[0m\u001b[0;34m.\u001b[0m\u001b[0mappend\u001b[0m\u001b[0;34m(\u001b[0m\u001b[0madj_slice\u001b[0m\u001b[0;34m)\u001b[0m\u001b[0;34m\u001b[0m\u001b[0;34m\u001b[0m\u001b[0m\n\u001b[1;32m     19\u001b[0m         \u001b[0mnon_zero\u001b[0m \u001b[0;34m=\u001b[0m \u001b[0mnp\u001b[0m\u001b[0;34m.\u001b[0m\u001b[0mnonzero\u001b[0m\u001b[0;34m(\u001b[0m\u001b[0madj_slice\u001b[0m\u001b[0;34m)\u001b[0m\u001b[0;34m[\u001b[0m\u001b[0;36m0\u001b[0m\u001b[0;34m]\u001b[0m\u001b[0;34m\u001b[0m\u001b[0;34m\u001b[0m\u001b[0m\n\u001b[0;32m---> 20\u001b[0;31m         \u001b[0minput_start\u001b[0m \u001b[0;34m=\u001b[0m \u001b[0minput_end\u001b[0m\u001b[0;34m-\u001b[0m\u001b[0mlen\u001b[0m\u001b[0;34m(\u001b[0m\u001b[0madj_slice\u001b[0m\u001b[0;34m)\u001b[0m\u001b[0;34m+\u001b[0m\u001b[0mnp\u001b[0m\u001b[0;34m.\u001b[0m\u001b[0mamin\u001b[0m\u001b[0;34m(\u001b[0m\u001b[0mnon_zero\u001b[0m\u001b[0;34m)\u001b[0m\u001b[0;34m\u001b[0m\u001b[0;34m\u001b[0m\u001b[0m\n\u001b[0m\u001b[1;32m     21\u001b[0m \u001b[0;34m\u001b[0m\u001b[0m\n\u001b[1;32m     22\u001b[0m     \u001b[0;32mreturn\u001b[0m \u001b[0madj_output\u001b[0m\u001b[0;34m\u001b[0m\u001b[0;34m\u001b[0m\u001b[0m\n",
      "\u001b[0;32m<__array_function__ internals>\u001b[0m in \u001b[0;36mamin\u001b[0;34m(*args, **kwargs)\u001b[0m\n",
      "\u001b[0;32m/usr/xtmp/ds447/atml/GraphRNNReproducability/env/lib/python3.6/site-packages/numpy/core/fromnumeric.py\u001b[0m in \u001b[0;36mamin\u001b[0;34m(a, axis, out, keepdims, initial, where)\u001b[0m\n\u001b[1;32m   2829\u001b[0m     \"\"\"\n\u001b[1;32m   2830\u001b[0m     return _wrapreduction(a, np.minimum, 'min', axis, None, out,\n\u001b[0;32m-> 2831\u001b[0;31m                           keepdims=keepdims, initial=initial, where=where)\n\u001b[0m\u001b[1;32m   2832\u001b[0m \u001b[0;34m\u001b[0m\u001b[0m\n\u001b[1;32m   2833\u001b[0m \u001b[0;34m\u001b[0m\u001b[0m\n",
      "\u001b[0;32m/usr/xtmp/ds447/atml/GraphRNNReproducability/env/lib/python3.6/site-packages/numpy/core/fromnumeric.py\u001b[0m in \u001b[0;36m_wrapreduction\u001b[0;34m(obj, ufunc, method, axis, dtype, out, **kwargs)\u001b[0m\n\u001b[1;32m     85\u001b[0m                 \u001b[0;32mreturn\u001b[0m \u001b[0mreduction\u001b[0m\u001b[0;34m(\u001b[0m\u001b[0maxis\u001b[0m\u001b[0;34m=\u001b[0m\u001b[0maxis\u001b[0m\u001b[0;34m,\u001b[0m \u001b[0mout\u001b[0m\u001b[0;34m=\u001b[0m\u001b[0mout\u001b[0m\u001b[0;34m,\u001b[0m \u001b[0;34m**\u001b[0m\u001b[0mpasskwargs\u001b[0m\u001b[0;34m)\u001b[0m\u001b[0;34m\u001b[0m\u001b[0;34m\u001b[0m\u001b[0m\n\u001b[1;32m     86\u001b[0m \u001b[0;34m\u001b[0m\u001b[0m\n\u001b[0;32m---> 87\u001b[0;31m     \u001b[0;32mreturn\u001b[0m \u001b[0mufunc\u001b[0m\u001b[0;34m.\u001b[0m\u001b[0mreduce\u001b[0m\u001b[0;34m(\u001b[0m\u001b[0mobj\u001b[0m\u001b[0;34m,\u001b[0m \u001b[0maxis\u001b[0m\u001b[0;34m,\u001b[0m \u001b[0mdtype\u001b[0m\u001b[0;34m,\u001b[0m \u001b[0mout\u001b[0m\u001b[0;34m,\u001b[0m \u001b[0;34m**\u001b[0m\u001b[0mpasskwargs\u001b[0m\u001b[0;34m)\u001b[0m\u001b[0;34m\u001b[0m\u001b[0;34m\u001b[0m\u001b[0m\n\u001b[0m\u001b[1;32m     88\u001b[0m \u001b[0;34m\u001b[0m\u001b[0m\n\u001b[1;32m     89\u001b[0m \u001b[0;34m\u001b[0m\u001b[0m\n",
      "\u001b[0;31mValueError\u001b[0m: zero-size array to reduction operation minimum which has no identity"
     ]
    }
   ],
   "source": [
    "print(encode_adj_flexible(adj))\n",
    "print(encode(adj))"
   ]
  },
  {
   "cell_type": "code",
   "execution_count": 127,
   "metadata": {},
   "outputs": [],
   "source": [
    "def bfs_seq(G, start_id):\n",
    "    '''\n",
    "    get a bfs node sequence\n",
    "    :param G:\n",
    "    :param start_id:\n",
    "    :return:\n",
    "    '''\n",
    "    dictionary = dict(nx.bfs_successors(G, start_id))\n",
    "    start = [start_id]\n",
    "    output = [start_id]\n",
    "    while len(start) > 0:\n",
    "        next = []\n",
    "        while len(start) > 0:\n",
    "            current = start.pop(0)\n",
    "            neighbor = dictionary.get(current)\n",
    "            if neighbor is not None:\n",
    "                #### a wrong example, should not permute here!\n",
    "                # shuffle(neighbor)\n",
    "                next = next + neighbor\n",
    "        output = output + next\n",
    "        start = next\n",
    "    return output"
   ]
  },
  {
   "cell_type": "code",
   "execution_count": 147,
   "metadata": {},
   "outputs": [],
   "source": [
    "def bfs(G, start_id):\n",
    "    # return a list containing the bfs sequence\n",
    "    return list(nx.bfs_tree(G, start_id))"
   ]
  },
  {
   "cell_type": "code",
   "execution_count": 144,
   "metadata": {},
   "outputs": [
    {
     "data": {
      "image/png": "[encoded data removed]",
      "text/plain": [
       "<Figure size 432x288 with 1 Axes>"
      ]
     },
     "metadata": {},
     "output_type": "display_data"
    }
   ],
   "source": [
    "G = nx.tutte_graph()\n",
    "nx.draw(G)"
   ]
  },
  {
   "cell_type": "code",
   "execution_count": 155,
   "metadata": {},
   "outputs": [],
   "source": [
    "random.shuffle(data)\n",
    "for graph in data:\n",
    "    assert bfs(G, 0) == bfs_seq(G, 0)"
   ]
  },
  {
   "cell_type": "code",
   "execution_count": 156,
   "metadata": {},
   "outputs": [],
   "source": [
    "def encode_adj(adj, max_prev_node=10, is_full = False):\n",
    "    '''\n",
    "    :param adj: n*n, rows means time step, while columns are input dimension\n",
    "    :param max_degree: we want to keep row number, but truncate column numbers\n",
    "    :return:\n",
    "    '''\n",
    "    if is_full:\n",
    "        max_prev_node = adj.shape[0]-1\n",
    "\n",
    "    # pick up lower tri\n",
    "    adj = np.tril(adj, k=-1)\n",
    "    n = adj.shape[0]\n",
    "    adj = adj[1:n, 0:n-1]\n",
    "\n",
    "    # use max_prev_node to truncate\n",
    "    # note: now adj is a (n-1)*(n-1) matrix\n",
    "    adj_output = np.zeros((adj.shape[0], max_prev_node))\n",
    "    for i in range(adj.shape[0]):\n",
    "        input_start = max(0, i - max_prev_node + 1)\n",
    "        input_end = i + 1\n",
    "        output_start = max_prev_node + input_start - input_end\n",
    "        output_end = max_prev_node\n",
    "        adj_output[i, output_start:output_end] = adj[i, input_start:input_end]\n",
    "        adj_output[i,:] = adj_output[i,:][::-1] # reverse order\n",
    "\n",
    "    return adj_output"
   ]
  },
  {
   "cell_type": "code",
   "execution_count": 164,
   "metadata": {},
   "outputs": [],
   "source": [
    "def encode_basic(adj, M):\n",
    "    matrix = np.tril(adj, k=-1)\n",
    "    n = matrix.shape[0]\n",
    "    matrix = matrix[1:n, 0:M]\n",
    "    return matrix\n"
   ]
  },
  {
   "cell_type": "code",
   "execution_count": 171,
   "metadata": {},
   "outputs": [],
   "source": [
    "a = bfs(G, 0)\n",
    "g = nx.to_numpy_matrix(G)\n",
    "a = g[np.ix_(a,a)]"
   ]
  },
  {
   "cell_type": "code",
   "execution_count": 172,
   "metadata": {},
   "outputs": [
    {
     "data": {
      "text/plain": [
       "array([[1., 0., 0.],\n",
       "       [1., 0., 0.],\n",
       "       [1., 0., 0.],\n",
       "       [0., 1., 0.],\n",
       "       [0., 1., 0.],\n",
       "       [0., 0., 1.],\n",
       "       [0., 0., 1.],\n",
       "       [0., 0., 0.],\n",
       "       [0., 0., 0.],\n",
       "       [0., 0., 0.]])"
      ]
     },
     "execution_count": 172,
     "metadata": {},
     "output_type": "execute_result"
    }
   ],
   "source": [
    "encode_basic(a, 3)[:10]"
   ]
  },
  {
   "cell_type": "code",
   "execution_count": 173,
   "metadata": {},
   "outputs": [
    {
     "data": {
      "text/plain": [
       "array([[1., 0., 0.],\n",
       "       [0., 1., 0.],\n",
       "       [0., 0., 1.],\n",
       "       [0., 0., 1.],\n",
       "       [0., 0., 0.],\n",
       "       [0., 0., 0.],\n",
       "       [0., 0., 0.],\n",
       "       [0., 0., 0.],\n",
       "       [0., 0., 0.],\n",
       "       [0., 0., 0.]])"
      ]
     },
     "execution_count": 173,
     "metadata": {},
     "output_type": "execute_result"
    }
   ],
   "source": [
    "encode_adj(a, max_prev_node=3)[:10]"
   ]
  },
  {
   "cell_type": "code",
   "execution_count": null,
   "metadata": {},
   "outputs": [],
   "source": []
  }
 ],
 "metadata": {
  "interpreter": {
   "hash": "d29cb96d821f211be4e68ba56ab26600194e7ac6040d315f5dc9600f158e863a"
  },
  "kernelspec": {
   "display_name": "Python 3.6.9 ('env': venv)",
   "language": "python",
   "name": "python3"
  },
  "language_info": {
   "codemirror_mode": {
    "name": "ipython",
    "version": 3
   },
   "file_extension": ".py",
   "mimetype": "text/x-python",
   "name": "python",
   "nbconvert_exporter": "python",
   "pygments_lexer": "ipython3",
   "version": "3.6.9"
  },
  "orig_nbformat": 4
 },
 "nbformat": 4,
 "nbformat_minor": 2
}
